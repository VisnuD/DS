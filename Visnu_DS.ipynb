{
  "nbformat": 4,
  "nbformat_minor": 0,
  "metadata": {
    "colab": {
      "provenance": [],
      "authorship_tag": "ABX9TyNteBjAKi6p04RU1WI0su0P",
      "include_colab_link": true
    },
    "kernelspec": {
      "name": "python3",
      "display_name": "Python 3"
    },
    "language_info": {
      "name": "python"
    }
  },
  "cells": [
    {
      "cell_type": "markdown",
      "metadata": {
        "id": "view-in-github",
        "colab_type": "text"
      },
      "source": [
        "<a href=\"https://colab.research.google.com/github/VisnuD/DS/blob/main/Visnu_DS.ipynb\" target=\"_parent\"><img src=\"https://colab.research.google.com/assets/colab-badge.svg\" alt=\"Open In Colab\"/></a>"
      ]
    },
    {
      "cell_type": "markdown",
      "source": [
        "Question 1: -\n",
        "Write a program that takes a string as input, and counts the frequency of each word in the string, there might\n",
        "be repeated characters in the string. Your task is to find the highest frequency and returns the length of the\n",
        "highest-frequency word.\n",
        "\n",
        "Note - You have to write at least 2 additional test cases in which your program will run successfully and provide\n",
        "an explanation for the same.\n",
        "Example input - string = “write write write all the number from from from 1 to 100”\n",
        "Example output - 5\n",
        "Explanation - From the given string we can note that the most frequent words are “write” and “from” and\n",
        "the maximum value of both the values is “write” and its corresponding length is 5"
      ],
      "metadata": {
        "id": "CZfrrb00yQgc"
      }
    },
    {
      "cell_type": "code",
      "source": [
        "#Ans:\n",
        "\n",
        "def word_frequency(sent):\n",
        "    word_count={}\n",
        "    words= sent.split()    \n",
        "    for w in words:\n",
        "        if w in word_count:\n",
        "            word_count[w] += 1\n",
        "        else:\n",
        "            word_count[w] =1\n",
        "    \n",
        "    max_occur= max(word_count.values())\n",
        "    \n",
        "    max_size=0\n",
        "    for w, c in word_count.items():\n",
        "        if c== max_occur:\n",
        "            if len(w) > max_size: \n",
        "                max_size= len(w)\n",
        "    \n",
        "    return max_size\n",
        "            \n",
        "\n",
        "    \n",
        "sent1= \"write write write all the number from from from 1 to 100\"\n",
        "    \n",
        "print(word_frequency(sent1))\n",
        "\n",
        "\n",
        "sent2=\" I am Visnu Visnu Visnu and I am Python developer - python\"\n",
        "\n",
        "print(word_frequency(sent2))\n"
      ],
      "metadata": {
        "colab": {
          "base_uri": "https://localhost:8080/"
        },
        "id": "w4O-iUF5yQUk",
        "outputId": "875ed2f5-e59a-4be9-9de1-b2105c8e56ed"
      },
      "execution_count": 3,
      "outputs": [
        {
          "output_type": "stream",
          "name": "stdout",
          "text": [
            "5\n",
            "5\n"
          ]
        }
      ]
    },
    {
      "cell_type": "markdown",
      "source": [
        "Question 2: -\n",
        "Consider a string to be valid if all characters of the string appear the same number of times. It is also valid if\n",
        "he can remove just one character at the index in the string, and the remaining characters will occur the same\n",
        "number of times. Given a string, determine if it is valid. If so, return YES , otherwise return NO .\n",
        "Note - You have to write at least 2 additional test cases in which your program will run successfully and provide\n",
        "an explanation for the same.\n",
        "Example input 1 - s = “abc”. This is a valid string because frequencies are { “a”: 1, “b”: 1, “c”: 1 }\n",
        "Example output 1- YES\n",
        "Example input 2 - s “abcc”. This string is not valid as we can remove only 1 occurrence of “c”. That leaves\n",
        "character frequencies of { “a”: 1, “b”: 1 , “c”: 2 }\n",
        "Example output 2 - NO"
      ],
      "metadata": {
        "id": "7knWm211yPY0"
      }
    },
    {
      "cell_type": "code",
      "source": [
        "#Ans:\n",
        "\n",
        "def valid_string(st):\n",
        "    char_freq={}\n",
        "    for c in st:\n",
        "        if c in char_freq:\n",
        "            char_freq[c] +=1\n",
        "        else:\n",
        "            char_freq[c]=1\n",
        "    if len(set(char_freq.values())) > 1:\n",
        "        return 'NO'\n",
        "    else:\n",
        "        return 'YES'\n",
        "    \n",
        "    \n",
        "print(valid_string('abc'))\n",
        "\n",
        "print(valid_string('abcc'))\n",
        "\n",
        "print(valid_string('aabbcd'))"
      ],
      "metadata": {
        "colab": {
          "base_uri": "https://localhost:8080/"
        },
        "id": "hlirZ823yO4k",
        "outputId": "c39f8736-4e0d-4586-b149-cbe240677725"
      },
      "execution_count": 4,
      "outputs": [
        {
          "output_type": "stream",
          "name": "stdout",
          "text": [
            "YES\n",
            "NO\n",
            "NO\n"
          ]
        }
      ]
    },
    {
      "cell_type": "markdown",
      "source": [
        "Question 3: -\n",
        "Write a program, which would download the data from the provided link, and then read the data and convert\n",
        "that into properly structured data and return it in Excel format.\n",
        "Note - Write comments wherever necessary explaining the code written."
      ],
      "metadata": {
        "id": "jTRFWpAfG28k"
      }
    },
    {
      "cell_type": "code",
      "execution_count": 3,
      "metadata": {
        "colab": {
          "base_uri": "https://localhost:8080/"
        },
        "id": "fBxK5OGVEgC4",
        "outputId": "63a3649b-6dbe-4e60-e5cf-44b5c37d808c"
      },
      "outputs": [
        {
          "output_type": "stream",
          "name": "stdout",
          "text": [
            "Downloaded\n",
            "                          0\n",
            "0                         {\n",
            "1             \"pokemon\": [{\n",
            "2                  \"id\": 1,\n",
            "3             \"num\": \"001\",\n",
            "4      \"name\": \"Bulbasaur\",\n",
            "Excel file saved\n"
          ]
        }
      ],
      "source": [
        "\n",
        "\n",
        "import requests\n",
        "import pandas as pd\n",
        "\n",
        "# provide the URL of the data\n",
        "url = \"https://raw.githubusercontent.com/Biuni/PokemonGO-Pokedex/master/pokedex.json\"\n",
        "\n",
        "# download the data\n",
        "resp = requests.get(url)\n",
        "\n",
        "# check the status of response\n",
        "if resp.status_code == 200:\n",
        "  print(\"Downloaded\")\n",
        "  df = pd.read_csv(url, sep=\"\\t\",header=None)# read the data using pandas\n",
        "  print(df.head())\n",
        "  df.to_excel(\"data.xlsx\", index=False) # save the data as excel\n",
        "  print(\"Excel file saved\")\n",
        "else:\n",
        "  print(\"Download failed\")"
      ]
    },
    {
      "cell_type": "code",
      "source": [],
      "metadata": {
        "id": "9yU0DwlRyLA1"
      },
      "execution_count": null,
      "outputs": []
    },
    {
      "cell_type": "markdown",
      "source": [],
      "metadata": {
        "id": "UYQpdso4HB7Y"
      }
    },
    {
      "cell_type": "markdown",
      "source": [
        "Question 4 -\n",
        "Write a program to download the data from the link given below and then read the data and convert the into\n",
        "the proper structure and return it as a CSV file.\n",
        "Link - https://data.nasa.gov/resource/y77d-th95.json\n",
        "Note - Write code comments wherever needed for code understanding."
      ],
      "metadata": {
        "id": "3amS75mIHEHF"
      }
    },
    {
      "cell_type": "code",
      "source": [
        "import requests\n",
        "import pandas as pd\n",
        "url = \"https://data.nasa.gov/resource/y77d-th95.json\"\n",
        "r = requests.get(url)\n",
        "if r.status_code==200:\n",
        "    with open(\"dummy.csv\", 'wb') as f:\n",
        "    #opening the file in write mode\n",
        "        f.write(r.content) \n",
        "    print(\"Write success\")\n",
        "    df =pd.read_csv(\"dummy.csv\", sep=\"\\t\",header=None)\n",
        "    print(df.head())\n",
        "else:\n",
        "    print(\"fail\")"
      ],
      "metadata": {
        "colab": {
          "base_uri": "https://localhost:8080/"
        },
        "id": "rBaAcriEHAjg",
        "outputId": "0b772c5f-0090-435d-91c3-b89e45eedf40"
      },
      "execution_count": 9,
      "outputs": [
        {
          "output_type": "stream",
          "name": "stdout",
          "text": [
            "Write success\n",
            "                                                   0\n",
            "0  [{\"name\":\"Aachen\",\"id\":\"1\",\"nametype\":\"Valid\",...\n",
            "1  ,{\"name\":\"Aarhus\",\"id\":\"2\",\"nametype\":\"Valid\",...\n",
            "2  ,{\"name\":\"Abee\",\"id\":\"6\",\"nametype\":\"Valid\",\"r...\n",
            "3  ,{\"name\":\"Acapulco\",\"id\":\"10\",\"nametype\":\"Vali...\n",
            "4  ,{\"name\":\"Achiras\",\"id\":\"370\",\"nametype\":\"Vali...\n"
          ]
        }
      ]
    },
    {
      "cell_type": "markdown",
      "source": [
        "5. Write a program to download the data from the given API link and then extract the following data with\n",
        "proper formatting\n",
        "\n",
        "Link - http://api.tvmaze.com/singlesearch/shows?q=westworld&embed=episodes"
      ],
      "metadata": {
        "id": "YrtRbJRrxkum"
      }
    },
    {
      "cell_type": "code",
      "source": [
        "import requests\n",
        "import pandas as pd\n",
        "\n",
        "# provide the API link\n",
        "api_link = \"http://api.tvmaze.com/singlesearch/shows?q=westworld&embed=episodes\"\n",
        "\n",
        "response = requests.get(api_link)\n",
        "if response.status_code == 200:\n",
        "  print(\"Download successful\")\n",
        "  data = response.json()\n",
        "  df = pd.DataFrame(data)\n",
        "  print(df.head())\n",
        "  df.to_csv(\"data.csv\", index=False)\n",
        "  print(\"CSV file saved\")\n",
        "else:\n",
        "  print(\"Download failed\")"
      ],
      "metadata": {
        "id": "XAkKo5efx5HW"
      },
      "execution_count": null,
      "outputs": []
    }
  ]
}